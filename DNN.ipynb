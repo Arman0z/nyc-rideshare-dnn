{
 "cells": [
  {
   "cell_type": "markdown",
   "metadata": {},
   "source": [
    "# NYC FHV Rideshare Fare Prediction - Deep & Cross Network v2\n",
    "\n",
    "This notebook implements an end-to-end workflow for training a Deep & Cross Network v2 model on the NYC FHV (For-Hire Vehicle) dataset to predict ride fares. The model ingests trip data, processes features, and predicts the total fare amount presented to riders."
   ]
  },
  {
   "cell_type": "markdown",
   "metadata": {},
   "source": [
    "# 0 Environment & TPU setup"
   ]
  },
  {
   "cell_type": "code",
   "execution_count": null,
   "metadata": {},
   "outputs": [],
   "source": [
    "# Colab Pro: activate TPU\n",
    "try:\n",
    "    import jax  # quick TPU test\n",
    "except Exception:\n",
    "    %tensorflow_version 2.x\n",
    "    import os, json, tensorflow as tf\n",
    "\n",
    "# Mixed precision for TPU\n",
    "tf.keras.mixed_precision.set_global_policy('mixed_bfloat16')\n",
    "\n",
    "# Install helper libs once per new VM\n",
    "!pip install polars==0.20.19 gcsfs==2024.4.1 --quiet"
   ]
  },
  {
   "cell_type": "code",
   "execution_count": null,
   "metadata": {},
   "outputs": [],
   "source": [
    "# Mount the GCS bucket that already holds the 20.5 GB Parquet\n",
    "BUCKET = \"nyc-taxi-fhv-460946772036\"\n",
    "!gcsfuse --implicit-dirs $BUCKET /mnt/fhv\n",
    "PARQUET = \"/mnt/fhv/fhvhv_all_years.zstd.parquet\""
   ]
  },
  {
   "cell_type": "markdown",
   "metadata": {},
   "source": [
    "# 1 Data access (GCS → Polars DataFrame)"
   ]
  },
  {
   "cell_type": "code",
   "execution_count": null,
   "metadata": {},
   "outputs": [],
   "source": [
    "import polars as pl, datetime as dt\n",
    "df = pl.read_parquet(PARQUET, low_memory=False)\n",
    "print(df.shape)      # 745 M rows × 24 cols  "
   ]
  },
  {
   "cell_type": "markdown",
   "metadata": {},
   "source": [
    "# 2 Cleaning & target creation"
   ]
  },
  {
   "cell_type": "code",
   "execution_count": null,
   "metadata": {},
   "outputs": [],
   "source": [
    "NUMERIC_OUTLIER_RULES = {\n",
    "    \"trip_miles\":  (0.1, 200),            # drop >200 mi  \n",
    "    \"trip_time\":   (60, 4*3600),          # 1 min – 4 h\n",
    "}\n",
    "def clip_interval(col, lo, hi):\n",
    "    return pl.when(pl.col(col).is_between(lo, hi)).then(pl.col(col)).otherwise(None)\n",
    "\n",
    "for c,(lo,hi) in NUMERIC_OUTLIER_RULES.items():\n",
    "    df = df.with_columns(clip_interval(c, lo, hi))\n",
    "\n",
    "money_cols = [\"base_passenger_fare\",\"tolls\",\"bcf\",\"sales_tax\",\n",
    "              \"congestion_surcharge\",\"airport_fee\"]\n",
    "df = df.with_columns([pl.col(c).clip(0) for c in money_cols])\n",
    "\n",
    "df = df.with_columns([\n",
    "    ( sum(pl.col(c) for c in money_cols) ).alias(\"target_amount\"),\n",
    "    (pl.col(\"trip_miles\") / (pl.col(\"trip_time\")/3600)).alias(\"mph\")\n",
    "]).drop_nulls(\"target_amount\")"
   ]
  },
  {
   "cell_type": "markdown",
   "metadata": {},
   "source": [
    "# 3 Feature engineering"
   ]
  },
  {
   "cell_type": "code",
   "execution_count": null,
   "metadata": {},
   "outputs": [],
   "source": [
    "# 3.1  Temporal splits\n",
    "df = df.with_columns([\n",
    "    pl.col(\"pickup_datetime\").dt.hour().alias(\"pickup_hour\"),\n",
    "    pl.col(\"pickup_datetime\").dt.weekday().alias(\"pickup_wday\"),\n",
    "    pl.col(\"pickup_datetime\").dt.month().alias(\"pickup_month\"),\n",
    "])\n",
    "\n",
    "# 3.2  Categorical cleanup (fill UNK)\n",
    "high_card = [\"dispatching_base_num\",\"PULocationID\",\"DOLocationID\"]\n",
    "for col in high_card + [\"hvfhs_license_num\"]:\n",
    "    df = df.with_columns(pl.col(col).fill_null(\"UNK\"))"
   ]
  },
  {
   "cell_type": "markdown",
   "metadata": {},
   "source": [
    "# 4 Train / validation split"
   ]
  },
  {
   "cell_type": "code",
   "execution_count": null,
   "metadata": {},
   "outputs": [],
   "source": [
    "# Time-based split: last month of 2022 → validation\n",
    "cutoff = dt.datetime(2022,12,1)\n",
    "train_df = df.filter(pl.col(\"pickup_datetime\") <  cutoff)\n",
    "valid_df = df.filter(pl.col(\"pickup_datetime\") >= cutoff)\n",
    "\n",
    "print(train_df.shape, valid_df.shape)"
   ]
  },
  {
   "cell_type": "markdown",
   "metadata": {},
   "source": [
    "# 5 Write TFRecord shards"
   ]
  },
  {
   "cell_type": "code",
   "execution_count": null,
   "metadata": {},
   "outputs": [],
   "source": [
    "import tensorflow as tf, math, os, itertools, json, typing as T\n",
    "from tqdm import tqdm\n",
    "\n",
    "def df_to_tfr_iter(table: pl.DataFrame, batch=200_000):\n",
    "    n = table.height\n",
    "    for i in tqdm(range(0, n, batch)):\n",
    "        chunk = table.slice(i, batch)\n",
    "        yield dict(chunk.to_arrow().to_pydict())  # col->list\n",
    "\n",
    "def write_tfr(split, table):\n",
    "    OUTDIR = f\"/content/tfr/{split}\"\n",
    "    os.makedirs(OUTDIR, exist_ok=True)\n",
    "    for shard_id, records in enumerate(df_to_tfr_iter(table)):\n",
    "        fn = f\"{OUTDIR}/{split}-{shard_id:05d}.tfr\"\n",
    "        with tf.io.TFRecordWriter(fn, compression_type=\"GZIP\") as w:\n",
    "            for j in range(len(records[\"target_amount\"])):\n",
    "                feat = {k: tf.train.Feature(\n",
    "                           float_list=tf.train.FloatList(value=[records[k][j]])\n",
    "                       ) if isinstance(records[k][j], float)\n",
    "                       else tf.train.Feature(\n",
    "                           bytes_list=tf.train.BytesList(value=[str(records[k][j]).encode()])\n",
    "                       )\n",
    "                       for k in records}\n",
    "                example = tf.train.Example(features=tf.train.Features(feature=feat))\n",
    "                w.write(example.SerializeToString())"
   ]
  },
  {
   "cell_type": "code",
   "execution_count": null,
   "metadata": {},
   "outputs": [],
   "source": [
    "# Write training TFRecords\n",
    "write_tfr('train', train_df)"
   ]
  },
  {
   "cell_type": "code",
   "execution_count": null,
   "metadata": {},
   "outputs": [],
   "source": [
    "# Write validation TFRecords\n",
    "write_tfr('valid', valid_df)"
   ]
  },
  {
   "cell_type": "markdown",
   "metadata": {},
   "source": [
    "# 6 Build tf.data input pipeline"
   ]
  },
  {
   "cell_type": "code",
   "execution_count": null,
   "metadata": {},
   "outputs": [],
   "source": [
    "FEATURE_DESCRIPTION = {\n",
    "    # floats\n",
    "    **{c: tf.io.FixedLenFeature([], tf.float32) for c in\n",
    "       [\"trip_miles\",\"trip_time\",\"mph\",\"base_passenger_fare\",\"tolls\",\n",
    "        \"bcf\",\"sales_tax\",\"congestion_surcharge\",\"airport_fee\"]},\n",
    "    # ints\n",
    "    **{c: tf.io.FixedLenFeature([], tf.int64) for c in\n",
    "       [\"pickup_hour\",\"pickup_wday\",\"pickup_month\"]},\n",
    "    # strings\n",
    "    **{c: tf.io.FixedLenFeature([], tf.string) for c in\n",
    "       [\"hvfhs_license_num\",\"dispatching_base_num\",\"PULocationID\",\"DOLocationID\",\n",
    "        \"shared_request_flag\",\"shared_match_flag\",\"wav_request_flag\",\"access_a_ride_flag\"]},\n",
    "    # label\n",
    "    \"target_amount\": tf.io.FixedLenFeature([], tf.float32),\n",
    "}\n",
    "\n",
    "def parse_fn(example_proto):\n",
    "    return tf.io.parse_single_example(example_proto, FEATURE_DESCRIPTION)\n",
    "\n",
    "def make_dataset(split, batch, shuffle=False):\n",
    "    files = tf.io.gfile.glob(f\"/content/tfr/{split}/*.tfr\")\n",
    "    ds = (tf.data.TFRecordDataset(files, compression_type=\"GZIP\",\n",
    "                                  num_parallel_reads=tf.data.AUTOTUNE)\n",
    "          .map(parse_fn, num_parallel_calls=tf.data.AUTOTUNE))\n",
    "    if shuffle: ds = ds.shuffle(1_000_000)\n",
    "    return (ds.batch(batch, drop_remainder=True)\n",
    "              .prefetch(tf.data.AUTOTUNE))"
   ]
  },
  {
   "cell_type": "markdown",
   "metadata": {},
   "source": [
    "# 7 Define Deep & Cross Network v2"
   ]
  },
  {
   "cell_type": "code",
   "execution_count": null,
   "metadata": {},
   "outputs": [],
   "source": [
    "from tensorflow.keras import layers as L, Model\n",
    "\n",
    "def dcn_v2(inputs):\n",
    "    # --- Embeddings ---\n",
    "    emb_dims = {\"hvfhs_license_num\":2, \"dispatching_base_num\":16,\n",
    "                \"PULocationID\":16, \"DOLocationID\":16}\n",
    "    embed_out = []\n",
    "    for feat, dim in emb_dims.items():\n",
    "        v = L.StringLookup(output_mode='int', num_oov_indices=1)(inputs[feat])\n",
    "        v = L.Embedding(input_dim=v.vocabulary_size(), output_dim=dim)(v)\n",
    "        embed_out.append(L.Flatten()(v))\n",
    "\n",
    "    # --- Flags 0/1 ---\n",
    "    flags = [\"shared_request_flag\",\"shared_match_flag\",\n",
    "             \"wav_request_flag\",\"access_a_ride_flag\"]\n",
    "    flag_out = [L.Cast(dtype='float32')(inputs[f]) for f in flags]\n",
    "\n",
    "    # --- Numeric normalised ---\n",
    "    num_cols = [\"trip_miles\",\"trip_time\",\"mph\",\"base_passenger_fare\",\n",
    "                \"tolls\",\"bcf\",\"sales_tax\",\"congestion_surcharge\",\"airport_fee\"]\n",
    "    norm = L.Normalization()\n",
    "    norm.adapt(train_df.select(num_cols).to_numpy())  # offline!\n",
    "    num_out = norm(L.Concatenate()( [inputs[c] for c in num_cols] ))\n",
    "\n",
    "    # --- Temporal (sin/cos) ---\n",
    "    hour = tf.cast(inputs[\"pickup_hour\"], tf.float32)\n",
    "    sin_hour = tf.sin(2*3.1416*hour/24); cos_hour = tf.cos(2*3.1416*hour/24)\n",
    "    \n",
    "    wday = tf.cast(inputs[\"pickup_wday\"], tf.float32)\n",
    "    sin_wday = tf.sin(2*3.1416*wday/7); cos_wday = tf.cos(2*3.1416*wday/7)\n",
    "    \n",
    "    month = tf.cast(inputs[\"pickup_month\"], tf.float32)\n",
    "    sin_month = tf.sin(2*3.1416*month/12); cos_month = tf.cos(2*3.1416*month/12)\n",
    "\n",
    "    concat = L.Concatenate()(embed_out + flag_out + [num_out, sin_hour, cos_hour, sin_wday, cos_wday, sin_month, cos_month])\n",
    "\n",
    "    # ---- DCN-v2 Cross Stack ----\n",
    "    cross = concat\n",
    "    for _ in range(3):\n",
    "        cross = tf.keras.experimental.LinearCombination()([concat, cross])\n",
    "\n",
    "    # ---- Deep Tower ----\n",
    "    deep = concat\n",
    "    for units, drop in [(512,0.2),(256,0.2),(128,0.1),(64,0)]:\n",
    "        deep = L.Dense(units, activation='gelu', kernel_regularizer='l2')(deep)\n",
    "        deep = L.BatchNormalization()(deep)\n",
    "        if drop: deep = L.Dropout(drop)(deep)\n",
    "\n",
    "    fused = L.Concatenate()([cross, deep])\n",
    "    out = L.Dense(64, activation='gelu')(fused)\n",
    "    out = L.Dense(1, name='fare')(out)\n",
    "    return out\n",
    "\n",
    "inputs = {k: L.Input(shape=(), name=k, dtype=tf.string if 'flag' in k or k.endswith('_num') or 'ID' in k else tf.float32)\n",
    "          for k in FEATURE_DESCRIPTION if k!='target_amount'}\n",
    "model = Model(inputs, dcn_v2(inputs))\n",
    "model.compile(\n",
    "    optimizer=tf.keras.optimizers.AdamW(1e-3, weight_decay=1e-5, global_clipnorm=1.0),\n",
    "    loss=tf.keras.losses.Huber(delta=5.0),\n",
    "    metrics=[tf.keras.metrics.MeanAbsoluteError(name='MAE'),\n",
    "             tf.keras.metrics.MeanAbsolutePercentageError(name='MAPE')]\n",
    ")\n",
    "model.summary()"
   ]
  },
  {
   "cell_type": "markdown",
   "metadata": {},
   "source": [
    "# 8 Train, monitor & early-stop"
   ]
  },
  {
   "cell_type": "code",
   "execution_count": null,
   "metadata": {},
   "outputs": [],
   "source": [
    "BATCH = 16_384\n",
    "train_ds = make_dataset('train', BATCH, shuffle=True)\n",
    "valid_ds = make_dataset('valid', BATCH)\n",
    "\n",
    "callbacks = [\n",
    "    tf.keras.callbacks.EarlyStopping(monitor='val_MAE', patience=3, restore_best_weights=True),\n",
    "    tf.keras.callbacks.ModelCheckpoint('checkpoints/dcnv2_{epoch:02d}.keras',\n",
    "                                       save_best_only=True, monitor='val_MAE'),\n",
    "    tf.keras.callbacks.TensorBoard('logs')\n",
    "]\n",
    "\n",
    "EPOCHS = 20\n",
    "history = model.fit(train_ds,\n",
    "                    validation_data=valid_ds,\n",
    "                    epochs=EPOCHS,\n",
    "                    steps_per_epoch=math.ceil(len(train_df)/BATCH),\n",
    "                    validation_steps=math.ceil(len(valid_df)/BATCH),\n",
    "                    callbacks=callbacks)"
   ]
  },
  {
   "cell_type": "markdown",
   "metadata": {},
   "source": [
    "# 9 Evaluate & error analysis"
   ]
  },
  {
   "cell_type": "code",
   "execution_count": null,
   "metadata": {},
   "outputs": [],
   "source": [
    "import matplotlib.pyplot as plt, numpy as np\n",
    "\n",
    "val_pred = model.predict(valid_ds, verbose=0).flatten()\n",
    "val_true = valid_df[\"target_amount\"].to_numpy()\n",
    "\n",
    "print(\"MAE $\", np.mean(np.abs(val_pred-val_true)))\n",
    "plt.hist(val_true-val_pred, bins=100)\n",
    "plt.title(\"Prediction residuals ($)\")\n",
    "plt.show()"
   ]
  },
  {
   "cell_type": "markdown",
   "metadata": {},
   "source": [
    "# 9 Hyper-parameter sweep (optional)"
   ]
  },
  {
   "cell_type": "code",
   "execution_count": null,
   "metadata": {},
   "outputs": [],
   "source": [
    "!pip install keras-tuner --quiet\n",
    "import keras_tuner as kt\n",
    "\n",
    "def model_builder(hp):\n",
    "    # Input layer setup from previous model\n",
    "    inputs = {k: L.Input(shape=(), name=k, dtype=tf.string if 'flag' in k or k.endswith('_num') or 'ID' in k else tf.float32)\n",
    "              for k in FEATURE_DESCRIPTION if k!='target_amount'}\n",
    "    \n",
    "    # --- Embeddings ---\n",
    "    emb_base_dim = hp.Int(\"emb_base_dim\", min_value=8, max_value=32, step=8)\n",
    "    emb_dims = {\"hvfhs_license_num\": 2,  # Small cardinality\n",
    "                \"dispatching_base_num\": emb_base_dim,\n",
    "                \"PULocationID\": emb_base_dim,\n",
    "                \"DOLocationID\": emb_base_dim}\n",
    "    embed_out = []\n",
    "    for feat, dim in emb_dims.items():\n",
    "        v = L.StringLookup(output_mode='int', num_oov_indices=1)(inputs[feat])\n",
    "        v = L.Embedding(input_dim=v.vocabulary_size(), output_dim=dim)(v)\n",
    "        embed_out.append(L.Flatten()(v))\n",
    "\n",
    "    # --- Flags 0/1 ---\n",
    "    flags = [\"shared_request_flag\",\"shared_match_flag\",\"wav_request_flag\",\"access_a_ride_flag\"]\n",
    "    flag_out = [L.Cast(dtype='float32')(inputs[f]) for f in flags]\n",
    "\n",
    "    # --- Numeric normalized ---\n",
    "    num_cols = [\"trip_miles\",\"trip_time\",\"mph\",\"base_passenger_fare\",\n",
    "                \"tolls\",\"bcf\",\"sales_tax\",\"congestion_surcharge\",\"airport_fee\"]\n",
    "    norm = L.Normalization()\n",
    "    norm.adapt(train_df.select(num_cols).to_numpy())  # offline!\n",
    "    num_out = norm(L.Concatenate()( [inputs[c] for c in num_cols] ))\n",
    "\n",
    "    # --- Temporal (sin/cos) ---\n",
    "    hour = tf.cast(inputs[\"pickup_hour\"], tf.float32)\n",
    "    sin_hour = tf.sin(2*3.1416*hour/24); cos_hour = tf.cos(2*3.1416*hour/24)\n",
    "    \n",
    "    wday = tf.cast(inputs[\"pickup_wday\"], tf.float32)\n",
    "    sin_wday = tf.sin(2*3.1416*wday/7); cos_wday = tf.cos(2*3.1416*wday/7)\n",
    "    \n",
    "    month = tf.cast(inputs[\"pickup_month\"], tf.float32)\n",
    "    sin_month = tf.sin(2*3.1416*month/12); cos_month = tf.cos(2*3.1416*month/12)\n",
    "\n",
    "    concat = L.Concatenate()(embed_out + flag_out + [num_out, sin_hour, cos_hour, sin_wday, cos_wday, sin_month, cos_month])\n",
    "\n",
    "    # ---- DCN-v2 Cross Stack ----\n",
    "    cross_layers = hp.Int(\"cross_layers\", 2, 4, step=1)\n",
    "    cross = concat\n",
    "    for _ in range(cross_layers):\n",
    "        cross = tf.keras.experimental.LinearCombination()([concat, cross])\n",
    "\n",
    "    # ---- Deep Tower ----\n",
    "    deep = concat\n",
    "    hp_units1 = hp.Int(\"units1\", min_value=256, max_value=768, step=256)\n",
    "    hp_units2 = hp.Int(\"units2\", min_value=128, max_value=384, step=128)\n",
    "    hp_drop1 = hp.Float(\"dropout1\", 0.1, 0.3, step=0.1)\n",
    "    hp_drop2 = hp.Float(\"dropout2\", 0.0, 0.2, step=0.1)\n",
    "    \n",
    "    layer_config = [(hp_units1, hp_drop1), (hp_units2, hp_drop2), (128, 0.1), (64, 0)]\n",
    "    \n",
    "    for units, drop in layer_config:\n",
    "        deep = L.Dense(units, activation='gelu', kernel_regularizer='l2')(deep)\n",
    "        deep = L.BatchNormalization()(deep)\n",
    "        if drop > 0: deep = L.Dropout(drop)(deep)\n",
    "\n",
    "    fused = L.Concatenate()([cross, deep])\n",
    "    out = L.Dense(64, activation='gelu')(fused)\n",
    "    out = L.Dense(1, name='fare')(out)\n",
    "    \n",
    "    model = Model(inputs, out)\n",
    "    \n",
    "    hp_learning_rate = hp.Choice(\"learning_rate\", [1e-4, 3e-4, 1e-3])\n",
    "    model.compile(\n",
    "        optimizer=tf.keras.optimizers.AdamW(hp_learning_rate, weight_decay=1e-5, global_clipnorm=1.0),\n",
    "        loss=tf.keras.losses.Huber(delta=5.0),\n",
    "        metrics=[tf.keras.metrics.MeanAbsoluteError(name='MAE'),\n",
    "                 tf.keras.metrics.MeanAbsolutePercentageError(name='MAPE')]\n",
    "    )\n",
    "    \n",
    "    return model\n",
    "\n",
    "tuner = kt.BayesianOptimization(model_builder,\n",
    "                                objective=\"val_MAE\",\n",
    "                                max_trials=20,\n",
    "                                directory=\"ktuner\",\n",
    "                                overwrite=True)\n",
    "tuner.search(train_ds, validation_data=valid_ds, epochs=5)\n",
    "best_model = tuner.get_best_models(1)[0]"
   ]
  },
  {
   "cell_type": "markdown",
   "metadata": {},
   "source": [
    "# 10 Save model & notebook wrap-up"
   ]
  },
  {
   "cell_type": "code",
   "execution_count": null,
   "metadata": {},
   "outputs": [],
   "source": [
    "# Create directory for saved model\n",
    "!mkdir -p dcnv2_nyc_fhv_savedmodel\n",
    "\n",
    "# Save the model in SavedModel format\n",
    "model.save(\"dcnv2_nyc_fhv_savedmodel\")\n",
    "\n",
    "# Zip the model for easy distribution\n",
    "!zip -r model.zip dcnv2_nyc_fhv_savedmodel"
   ]
  },
  {
   "cell_type": "markdown",
   "metadata": {},
   "source": [
    "## Project Summary\n",
    "\n",
    "| Topic | Key points |\n",
    "|-------|------------|\n",
    "| **Business objective** | Accurate upfront fare estimate; aids riders, TNCs & city planners. |\n",
    "| **Raw data** | 745 M FHV trips (2019-22) → 24 columns. |\n",
    "| **Cleaning rules** | Clip extreme miles/time, drop negative money, handle sparse cols. |\n",
    "| **Target** | Sum of base fare + taxes/fees (tips excluded). |\n",
    "| **Feature groups** | 9 numeric, 4 binary flags, 4 high-card categoricals, 3 temporal. |\n",
    "| **Model choice** | Deep & Cross Network v2 (explicit feature crosses + deep tower). |\n",
    "| **Hardware** | Colab Pro TPU v2-8, batch 16 384 → 3.5 h/epoch full data. |\n",
    "| **Loss / metrics** | Huber δ=5, track MAE, MAPE, RMSE. |\n",
    "| **Training hygiene** | Mixed-precision, early stop, AdamW + warm-up cosine LR, weight decay. |"
   ]
  }
 ],
 "metadata": {
  "kernelspec": {
   "display_name": "Python 3",
   "language": "python",
   "name": "python3"
  },
  "language_info": {
   "codemirror_mode": {
    "name": "ipython",
    "version": 3
   },
   "file_extension": ".py",
   "mimetype": "text/x-python",
   "name": "python",
   "nbconvert_exporter": "python",
   "pygments_lexer": "ipython3",
   "version": "3.8.3"
  }
 },
 "nbformat": 4,
 "nbformat_minor": 4
}