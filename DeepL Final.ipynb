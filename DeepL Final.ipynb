{
 "cells": [
  {
   "cell_type": "code",
   "execution_count": null,
   "id": "b1e702ef-3b0f-409a-8fd4-1f8ffb25223b",
   "metadata": {},
   "outputs": [],
   "source": [
    "pip install deepctr-torch==0.2.8  # includes DCN v2 (“DCNMix”)\n",
    "pip install pytorch-tabular optuna torchmetrics\n"
   ]
  },
  {
   "cell_type": "code",
   "execution_count": null,
   "id": "e45b60c8-b0f2-4254-9b8d-d12c7f88df9a",
   "metadata": {},
   "outputs": [],
   "source": [
    "import pandas as pd, numpy as np\n",
    "from deepctr_torch.inputs import SparseFeat, DenseFeat, get_feature_names\n",
    "from sklearn.preprocessing import StandardScaler, LabelEncoder\n",
    "\n",
    "df = pd.read_parquet(\"fhv_clean_2019_2022.parquet\")\n",
    "\n",
    "# -------- continuous -------------\n",
    "dense_feats = ['trip_miles','trip_time','avg_speed',\n",
    "               'tolls','bcf','sales_tax','congestion_surcharge',\n",
    "               'airport_fee','wait_request_pickup','wait_request_scene']\n",
    "\n",
    "scaler = StandardScaler().fit(df[dense_feats])\n",
    "df[dense_feats] = scaler.transform(df[dense_feats])\n",
    "\n",
    "# -------- categorical ------------\n",
    "sparse_feats = ['hvfhs_license_num','dispatching_base_num',\n",
    "                'originating_base_num','PULocationID','DOLocationID',\n",
    "                'PU_DO_pair','shared_request_flag','shared_match_flag',\n",
    "                'access_a_ride_flag','wav_request_flag','wav_match_flag',\n",
    "                'pickup_hour','pickup_dow','pickup_month','covid_phase']\n",
    "\n",
    "encoders = {col:LabelEncoder().fit(df[col]) for col in sparse_feats}\n",
    "for col, le in encoders.items():\n",
    "    df[col] = le.transform(df[col])\n",
    "\n",
    "feature_columns = (\n",
    "    [DenseFeat(col, 1) for col in dense_feats] +\n",
    "    [SparseFeat(col,\n",
    "                vocabulary_size=int(df[col].max())+1,\n",
    "                embedding_dim=min(50, round(1.6*np.sqrt(df[col].nunique()))))\n",
    "     for col in sparse_feats]\n",
    ")\n"
   ]
  },
  {
   "cell_type": "code",
   "execution_count": null,
   "id": "354b6a76-7f11-45a9-bf63-5d5ba041a095",
   "metadata": {},
   "outputs": [],
   "source": [
    "from deepctr_torch.models import DCNMix\n",
    "import torch\n",
    "from torch.utils.data import DataLoader, TensorDataset\n",
    "\n",
    "fixlen_feature_names = get_feature_names(feature_columns)\n",
    "\n",
    "X = df[fixlen_feature_names].values.astype('int64')\n",
    "y = np.log1p(df['base_passenger_fare'].values.astype('float32'))\n",
    "\n",
    "train_mask = df['pickup_datetime'] < '2022-04-01'\n",
    "X_train, y_train = X[train_mask], y[train_mask]\n",
    "X_val,   y_val   = X[~train_mask], y[~train_mask]\n",
    "\n",
    "device = \"cuda\" if torch.cuda.is_available() else \"cpu\"\n",
    "\n",
    "model = DCNMix(\n",
    "    dnn_feature_columns=feature_columns,\n",
    "    cross_num=4,               # number of cross layers\n",
    "    low_rank=32,               # “mixed” low-rank variant\n",
    "    dnn_hidden_units=(256,128,64),\n",
    "    dnn_dropout=0.2,\n",
    "    task='regression',\n",
    "    l2_reg_embedding=1e-6,\n",
    ").to(device)\n",
    "\n",
    "model.compile(\n",
    "    \"adam\", \"mse\",\n",
    "    metrics=[\"mse\"],  # will compute on log-space\n",
    "    device=device\n",
    ")\n",
    "\n",
    "model.fit(\n",
    "    X_train, y_train,\n",
    "    batch_size=65536,\n",
    "    epochs=20,\n",
    "    verbose=2,\n",
    "    validation_split=0.05,\n",
    "    shuffle=True,\n",
    "    use_double=False,\n",
    "    callbacks=['early_stopping']\n",
    ")\n"
   ]
  },
  {
   "cell_type": "code",
   "execution_count": null,
   "id": "0d2b43ec-5fee-439a-b028-07c3efdfa135",
   "metadata": {},
   "outputs": [],
   "source": []
  }
 ],
 "metadata": {
  "kernelspec": {
   "display_name": "Python [conda env:base] *",
   "language": "python",
   "name": "conda-base-py"
  },
  "language_info": {
   "codemirror_mode": {
    "name": "ipython",
    "version": 3
   },
   "file_extension": ".py",
   "mimetype": "text/x-python",
   "name": "python",
   "nbconvert_exporter": "python",
   "pygments_lexer": "ipython3",
   "version": "3.12.7"
  }
 },
 "nbformat": 4,
 "nbformat_minor": 5
}
